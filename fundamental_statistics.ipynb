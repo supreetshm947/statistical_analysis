{
 "cells": [
  {
   "cell_type": "code",
   "id": "initial_id",
   "metadata": {
    "collapsed": true,
    "ExecuteTime": {
     "end_time": "2024-11-10T19:02:47.107408Z",
     "start_time": "2024-11-10T19:02:47.080020Z"
    }
   },
   "source": [
    "from importlib import import_module\n",
    "\n",
    "import pandas as pd\n",
    "from scipy.stats import skew, kurtosis\n",
    "import numpy as np"
   ],
   "outputs": [],
   "execution_count": 1
  },
  {
   "metadata": {
    "ExecuteTime": {
     "end_time": "2024-11-10T19:02:47.324541Z",
     "start_time": "2024-11-10T19:02:47.278588Z"
    }
   },
   "cell_type": "code",
   "source": "data = pd.read_csv(\"data/StudentsPerformance.csv\")",
   "id": "837ff0ae8046b4b6",
   "outputs": [],
   "execution_count": 2
  },
  {
   "metadata": {
    "ExecuteTime": {
     "end_time": "2024-11-10T19:02:48.132532Z",
     "start_time": "2024-11-10T19:02:48.050918Z"
    }
   },
   "cell_type": "code",
   "source": "data.head()",
   "id": "c0b13baa735d94ec",
   "outputs": [
    {
     "data": {
      "text/plain": [
       "   gender race/ethnicity parental level of education         lunch  \\\n",
       "0  female        group B           bachelor's degree      standard   \n",
       "1  female        group C                some college      standard   \n",
       "2  female        group B             master's degree      standard   \n",
       "3    male        group A          associate's degree  free/reduced   \n",
       "4    male        group C                some college      standard   \n",
       "\n",
       "  test preparation course  math score  reading score  writing score  \n",
       "0                    none          72             72             74  \n",
       "1               completed          69             90             88  \n",
       "2                    none          90             95             93  \n",
       "3                    none          47             57             44  \n",
       "4                    none          76             78             75  "
      ],
      "text/html": [
       "<div>\n",
       "<style scoped>\n",
       "    .dataframe tbody tr th:only-of-type {\n",
       "        vertical-align: middle;\n",
       "    }\n",
       "\n",
       "    .dataframe tbody tr th {\n",
       "        vertical-align: top;\n",
       "    }\n",
       "\n",
       "    .dataframe thead th {\n",
       "        text-align: right;\n",
       "    }\n",
       "</style>\n",
       "<table border=\"1\" class=\"dataframe\">\n",
       "  <thead>\n",
       "    <tr style=\"text-align: right;\">\n",
       "      <th></th>\n",
       "      <th>gender</th>\n",
       "      <th>race/ethnicity</th>\n",
       "      <th>parental level of education</th>\n",
       "      <th>lunch</th>\n",
       "      <th>test preparation course</th>\n",
       "      <th>math score</th>\n",
       "      <th>reading score</th>\n",
       "      <th>writing score</th>\n",
       "    </tr>\n",
       "  </thead>\n",
       "  <tbody>\n",
       "    <tr>\n",
       "      <th>0</th>\n",
       "      <td>female</td>\n",
       "      <td>group B</td>\n",
       "      <td>bachelor's degree</td>\n",
       "      <td>standard</td>\n",
       "      <td>none</td>\n",
       "      <td>72</td>\n",
       "      <td>72</td>\n",
       "      <td>74</td>\n",
       "    </tr>\n",
       "    <tr>\n",
       "      <th>1</th>\n",
       "      <td>female</td>\n",
       "      <td>group C</td>\n",
       "      <td>some college</td>\n",
       "      <td>standard</td>\n",
       "      <td>completed</td>\n",
       "      <td>69</td>\n",
       "      <td>90</td>\n",
       "      <td>88</td>\n",
       "    </tr>\n",
       "    <tr>\n",
       "      <th>2</th>\n",
       "      <td>female</td>\n",
       "      <td>group B</td>\n",
       "      <td>master's degree</td>\n",
       "      <td>standard</td>\n",
       "      <td>none</td>\n",
       "      <td>90</td>\n",
       "      <td>95</td>\n",
       "      <td>93</td>\n",
       "    </tr>\n",
       "    <tr>\n",
       "      <th>3</th>\n",
       "      <td>male</td>\n",
       "      <td>group A</td>\n",
       "      <td>associate's degree</td>\n",
       "      <td>free/reduced</td>\n",
       "      <td>none</td>\n",
       "      <td>47</td>\n",
       "      <td>57</td>\n",
       "      <td>44</td>\n",
       "    </tr>\n",
       "    <tr>\n",
       "      <th>4</th>\n",
       "      <td>male</td>\n",
       "      <td>group C</td>\n",
       "      <td>some college</td>\n",
       "      <td>standard</td>\n",
       "      <td>none</td>\n",
       "      <td>76</td>\n",
       "      <td>78</td>\n",
       "      <td>75</td>\n",
       "    </tr>\n",
       "  </tbody>\n",
       "</table>\n",
       "</div>"
      ]
     },
     "execution_count": 3,
     "metadata": {},
     "output_type": "execute_result"
    }
   ],
   "execution_count": 3
  },
  {
   "metadata": {},
   "cell_type": "markdown",
   "source": "# Descriptive Analysis: \n",
   "id": "cec6dfea5492144"
  },
  {
   "metadata": {},
   "cell_type": "markdown",
   "source": "1. Measure of Central Tendency: mean, median, and mode for numerical variables.",
   "id": "e5cbb24b372a864b"
  },
  {
   "metadata": {
    "ExecuteTime": {
     "end_time": "2024-11-10T19:02:48.548913Z",
     "start_time": "2024-11-10T19:02:48.529968Z"
    }
   },
   "cell_type": "code",
   "source": "data['math score'].mean()",
   "id": "6878e538a8734121",
   "outputs": [
    {
     "data": {
      "text/plain": [
       "np.float64(66.089)"
      ]
     },
     "execution_count": 4,
     "metadata": {},
     "output_type": "execute_result"
    }
   ],
   "execution_count": 4
  },
  {
   "metadata": {
    "ExecuteTime": {
     "end_time": "2024-11-10T19:02:48.737805Z",
     "start_time": "2024-11-10T19:02:48.703525Z"
    }
   },
   "cell_type": "code",
   "source": "data['math score'].median()",
   "id": "310d59dfe69b57",
   "outputs": [
    {
     "data": {
      "text/plain": [
       "np.float64(66.0)"
      ]
     },
     "execution_count": 5,
     "metadata": {},
     "output_type": "execute_result"
    }
   ],
   "execution_count": 5
  },
  {
   "metadata": {
    "ExecuteTime": {
     "end_time": "2024-11-10T19:02:49.309352Z",
     "start_time": "2024-11-10T19:02:49.275001Z"
    }
   },
   "cell_type": "code",
   "source": "data['math score'].mode()[0]",
   "id": "4d1b0c47a2fa123c",
   "outputs": [
    {
     "data": {
      "text/plain": [
       "np.int64(65)"
      ]
     },
     "execution_count": 6,
     "metadata": {},
     "output_type": "execute_result"
    }
   ],
   "execution_count": 6
  },
  {
   "metadata": {},
   "cell_type": "markdown",
   "source": "2. Measures of Spread: variance, standard deviation, and interquartile range (IQR).",
   "id": "f85c6ea75ab8da21"
  },
  {
   "metadata": {
    "ExecuteTime": {
     "end_time": "2024-11-10T19:02:49.857683Z",
     "start_time": "2024-11-10T19:02:49.838469Z"
    }
   },
   "cell_type": "code",
   "source": "data['math score'].var()",
   "id": "49b07bea89a3f53b",
   "outputs": [
    {
     "data": {
      "text/plain": [
       "np.float64(229.91899799799796)"
      ]
     },
     "execution_count": 7,
     "metadata": {},
     "output_type": "execute_result"
    }
   ],
   "execution_count": 7
  },
  {
   "metadata": {
    "ExecuteTime": {
     "end_time": "2024-11-10T19:02:50.196786Z",
     "start_time": "2024-11-10T19:02:50.177341Z"
    }
   },
   "cell_type": "code",
   "source": "data['math score'].std()",
   "id": "7745f0839332a887",
   "outputs": [
    {
     "data": {
      "text/plain": [
       "np.float64(15.16308009600945)"
      ]
     },
     "execution_count": 8,
     "metadata": {},
     "output_type": "execute_result"
    }
   ],
   "execution_count": 8
  },
  {
   "metadata": {
    "ExecuteTime": {
     "end_time": "2024-11-10T19:02:50.404994Z",
     "start_time": "2024-11-10T19:02:50.381877Z"
    }
   },
   "cell_type": "code",
   "source": "np.percentile(data['math score'], 75) - np.percentile(data['math score'], 25)",
   "id": "c085cd6eb10f588",
   "outputs": [
    {
     "data": {
      "text/plain": [
       "np.float64(20.0)"
      ]
     },
     "execution_count": 9,
     "metadata": {},
     "output_type": "execute_result"
    }
   ],
   "execution_count": 9
  },
  {
   "metadata": {},
   "cell_type": "markdown",
   "source": "As IQR ≈ 1.35*SD, the data seems to be normally distributed.",
   "id": "8eb08e70808d82fa"
  },
  {
   "metadata": {},
   "cell_type": "markdown",
   "source": "3. Distribution Shapes: skewness and kurtosis to understand the asymmetry and peakedness of the data distribution.",
   "id": "6ab58c4b9d36ec47"
  },
  {
   "metadata": {
    "ExecuteTime": {
     "end_time": "2024-11-10T19:02:50.603883Z",
     "start_time": "2024-11-10T19:02:50.573629Z"
    }
   },
   "cell_type": "code",
   "source": "skew(data['math score'])",
   "id": "74999a8c16c2bc32",
   "outputs": [
    {
     "data": {
      "text/plain": [
       "np.float64(-0.278516571914075)"
      ]
     },
     "execution_count": 10,
     "metadata": {},
     "output_type": "execute_result"
    }
   ],
   "execution_count": 10
  },
  {
   "metadata": {},
   "cell_type": "markdown",
   "source": "Data seems to be a lil left skewed.",
   "id": "a42a58dc7319be36"
  },
  {
   "metadata": {
    "ExecuteTime": {
     "end_time": "2024-11-10T19:02:50.757884Z",
     "start_time": "2024-11-10T19:02:50.725672Z"
    }
   },
   "cell_type": "code",
   "source": "kurtosis(data['math score'])",
   "id": "6073393edd0676fb",
   "outputs": [
    {
     "data": {
      "text/plain": [
       "np.float64(0.26759715461497846)"
      ]
     },
     "execution_count": 11,
     "metadata": {},
     "output_type": "execute_result"
    }
   ],
   "execution_count": 11
  },
  {
   "metadata": {},
   "cell_type": "markdown",
   "source": "# Probability Theory",
   "id": "66c542259810f96c"
  },
  {
   "metadata": {
    "ExecuteTime": {
     "end_time": "2024-11-10T19:02:50.912351Z",
     "start_time": "2024-11-10T19:02:50.887496Z"
    }
   },
   "cell_type": "code",
   "source": [
    "#P(math_score_above_80)\n",
    "len(data[data['math score']>80])/len(data)"
   ],
   "id": "2f718ad8b33cf0b5",
   "outputs": [
    {
     "data": {
      "text/plain": [
       "0.176"
      ]
     },
     "execution_count": 12,
     "metadata": {},
     "output_type": "execute_result"
    }
   ],
   "execution_count": 12
  },
  {
   "metadata": {
    "ExecuteTime": {
     "end_time": "2024-11-10T19:02:51.033010Z",
     "start_time": "2024-11-10T19:02:51.017372Z"
    }
   },
   "cell_type": "code",
   "source": [
    "#P(math_reading_above_80)\n",
    "len(data[data['reading score']>80])/len(data)"
   ],
   "id": "f801acc9ef1cd848",
   "outputs": [
    {
     "data": {
      "text/plain": [
       "0.235"
      ]
     },
     "execution_count": 13,
     "metadata": {},
     "output_type": "execute_result"
    }
   ],
   "execution_count": 13
  },
  {
   "metadata": {
    "ExecuteTime": {
     "end_time": "2024-11-10T19:02:51.211822Z",
     "start_time": "2024-11-10T19:02:51.189396Z"
    }
   },
   "cell_type": "code",
   "source": [
    "#P(math_math_above_80|math_reading_above_80)\n",
    "len(data[(data['reading score']>80) & (data['math score']>80)])/len(data)"
   ],
   "id": "37349b15c0a07932",
   "outputs": [
    {
     "data": {
      "text/plain": [
       "0.131"
      ]
     },
     "execution_count": 14,
     "metadata": {},
     "output_type": "execute_result"
    }
   ],
   "execution_count": 14
  },
  {
   "metadata": {},
   "cell_type": "markdown",
   "source": "As P(math_math_above_80|math_reading_above_80) != P(math_math_above_80) thus the two variables are not independent.",
   "id": "f2d963e85d14e41"
  },
  {
   "metadata": {},
   "cell_type": "markdown",
   "source": "# Statistical Inference",
   "id": "9d64d7c6cc625bd7"
  },
  {
   "metadata": {},
   "cell_type": "markdown",
   "source": "Hypothesis Testing - testing the Hypothesis $H_1$: the mean of math score is 70.",
   "id": "dc0aee7d2105fa23"
  },
  {
   "metadata": {},
   "cell_type": "markdown",
   "source": [
    "We start with t-test that gives a yes/no answer that if the sample mean significantly different from the hypothesized mean? \\ \n",
    "The method ttest_1samp returns,\\\n",
    "- t_stat: which indicates how far our sample mean is from the hypothesized mean (70) in terms of standard error units.\n",
    "- p_value: it helps us decide whether to reject the null hypothesis (that the mean is 70). We reject the null hypothesis if p-value is less than 0.05."
   ],
   "id": "e439f683117d57e6"
  },
  {
   "metadata": {
    "ExecuteTime": {
     "end_time": "2024-11-10T19:02:51.360216Z",
     "start_time": "2024-11-10T19:02:51.331720Z"
    }
   },
   "cell_type": "code",
   "source": [
    "from scipy.stats import ttest_1samp\n",
    "\n",
    "t_stat, p_value = ttest_1samp(data['math score'], 70)"
   ],
   "id": "491d9681051ccb70",
   "outputs": [],
   "execution_count": 15
  },
  {
   "metadata": {
    "ExecuteTime": {
     "end_time": "2024-11-10T19:02:51.453362Z",
     "start_time": "2024-11-10T19:02:51.441672Z"
    }
   },
   "cell_type": "code",
   "source": "t_stat",
   "id": "c65575cd608f95cc",
   "outputs": [
    {
     "data": {
      "text/plain": [
       "np.float64(-8.156435137590153)"
      ]
     },
     "execution_count": 16,
     "metadata": {},
     "output_type": "execute_result"
    }
   ],
   "execution_count": 16
  },
  {
   "metadata": {
    "ExecuteTime": {
     "end_time": "2024-11-10T19:02:51.544205Z",
     "start_time": "2024-11-10T19:02:51.531981Z"
    }
   },
   "cell_type": "code",
   "source": [
    "p_value\n",
    "# p-value is really small thus we can reject the null hypothesis H1."
   ],
   "id": "b98f50546869e4d3",
   "outputs": [
    {
     "data": {
      "text/plain": [
       "np.float64(1.0291264341623114e-15)"
      ]
     },
     "execution_count": 17,
     "metadata": {},
     "output_type": "execute_result"
    }
   ],
   "execution_count": 17
  },
  {
   "metadata": {},
   "cell_type": "markdown",
   "source": [
    "# Confidence interval calculation\n",
    "First we calculate Standard Error of the mean ($SEM$), $$SEM = (Standard Deviation)/\\sqrt{n}$$\\\n",
    "We multiply SEM with 1.96 (For a normal distribution, about 95% of values lie within 1.96 standard deviations from the mean), this gives us margin of error, which quantifies how much variability we expect in our estimate of the mean. Then we calculate confidence interval using the margin to define an interval around the sample mean."
   ],
   "id": "472f4457d6655a84"
  },
  {
   "metadata": {
    "ExecuteTime": {
     "end_time": "2024-11-10T19:02:51.669630Z",
     "start_time": "2024-11-10T19:02:51.642967Z"
    }
   },
   "cell_type": "code",
   "source": [
    "mean = data['math score'].mean()\n",
    "sem = data['math score'].sem()\n",
    "\n",
    "margin_of_error = sem * 1.96\n",
    "(mean - margin_of_error, mean + margin_of_error)"
   ],
   "id": "9d9c49276d8f786b",
   "outputs": [
    {
     "data": {
      "text/plain": [
       "(np.float64(65.1491825588397), np.float64(67.0288174411603))"
      ]
     },
     "execution_count": 18,
     "metadata": {},
     "output_type": "execute_result"
    }
   ],
   "execution_count": 18
  },
  {
   "metadata": {},
   "cell_type": "markdown",
   "source": [
    "# Sampling and Data Distributions\n",
    "\n",
    "Central Limit Theorem (CLT): Demonstrate that the sampling distribution of the sample mean approaches a normal distribution. In simple terms if you take sufficiently large samples from a population, the samples' means will be normally distributed, even if the population isn't normally distributed."
   ],
   "id": "92f8952913b36941"
  },
  {
   "metadata": {
    "ExecuteTime": {
     "end_time": "2024-11-10T19:02:53.768981Z",
     "start_time": "2024-11-10T19:02:51.766494Z"
    }
   },
   "cell_type": "code",
   "source": [
    "import matplotlib.pyplot as plt\n",
    "\n",
    "sample_means = [data.sample(50)['math score'].mean() for _ in range(1000)]\n",
    "plt.hist(sample_means, edgecolor='k')\n",
    "plt.title(\"Distribution of Sample Means (Central Limit Theorem)\")\n",
    "plt.xlabel(\"Sample Mean of Math Score\")\n",
    "plt.ylabel(\"Frequency\")\n",
    "plt.show()"
   ],
   "id": "ac6e250cce7eda78",
   "outputs": [
    {
     "data": {
      "text/plain": [
       "<Figure size 640x480 with 1 Axes>"
      ],
      "image/png": "[encoded data removed]"
     },
     "metadata": {},
     "output_type": "display_data"
    }
   ],
   "execution_count": 19
  },
  {
   "metadata": {
    "ExecuteTime": {
     "end_time": "2024-11-10T19:02:55.778214Z",
     "start_time": "2024-11-10T19:02:54.763180Z"
    }
   },
   "cell_type": "code",
   "source": [
    "import seaborn as sns\n",
    "sns.histplot(data['math score'], kde=True)\n",
    "plt.title(\"Math Score Distribution\")\n",
    "plt.xlabel(\"Math Score\")\n",
    "plt.ylabel(\"Frequency\")\n",
    "plt.show()"
   ],
   "id": "1a57faca956c07b2",
   "outputs": [
    {
     "data": {
      "text/plain": [
       "<Figure size 640x480 with 1 Axes>"
      ],
      "image/png": "[encoded data removed]"
     },
     "metadata": {},
     "output_type": "display_data"
    }
   ],
   "execution_count": 20
  },
  {
   "metadata": {},
   "cell_type": "markdown",
   "source": [
    "Exploratory Data Analysis (EDA)\n",
    "\n",
    "    Data Visualization: Histograms, scatter plots, box plots, heatmaps, correlation matrices.\n",
    "    Data Cleaning and Preprocessing: Handling missing data, outliers, feature scaling, encoding categorical variables.\n",
    "    Feature Engineering: Creation of new features, polynomial features, interaction terms."
   ],
   "id": "a8f2be1f6be4c749"
  }
 ],
 "metadata": {
  "kernelspec": {
   "display_name": "Python 3",
   "language": "python",
   "name": "python3"
  },
  "language_info": {
   "codemirror_mode": {
    "name": "ipython",
    "version": 2
   },
   "file_extension": ".py",
   "mimetype": "text/x-python",
   "name": "python",
   "nbconvert_exporter": "python",
   "pygments_lexer": "ipython2",
   "version": "2.7.6"
  }
 },
 "nbformat": 4,
 "nbformat_minor": 5
}
